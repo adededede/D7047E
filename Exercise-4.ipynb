{
 "cells": [
  {
   "cell_type": "markdown",
   "id": "8102d1d8",
   "metadata": {},
   "source": [
    "Task 1\n",
    "\n",
    "We can train an RNN model to predict the next character given a sequence of characters. Such models are affectionately known as Char-RNNs.\n",
    "\n",
    "Train a Char-RNN model on the Tiny Shakespeare dataset. You can use the following repositories as a reference:\n",
    "\n",
    "• Char-RNN in PyTorch: https://github.com/spro/char-rnn.pytorch\n",
    "\n",
    "• Char-RNN in Tensorflow: https://github.com/karpathy/char-rnn\n",
    "\n",
    "Report the change in perplexity during training. Plot a graph to do so. Smoothen the curve if required. Plots that are not readable or are not self explanatory will not be considered."
   ]
  },
  {
   "cell_type": "code",
   "execution_count": 18,
   "id": "ba7b6bb3",
   "metadata": {},
   "outputs": [
    {
     "name": "stdout",
     "output_type": "stream",
     "text": [
      "Collecting tqdm\n",
      "  Downloading tqdm-4.64.1-py2.py3-none-any.whl (78 kB)\n",
      "Collecting importlib-resources\n",
      "  Downloading importlib_resources-5.4.0-py3-none-any.whl (28 kB)\n",
      "Requirement already satisfied: colorama in c:\\users\\olfia\\anaconda3\\envs\\env_pytorch\\lib\\site-packages (from tqdm) (0.4.4)\n",
      "Collecting zipp>=3.1.0\n",
      "  Downloading zipp-3.6.0-py3-none-any.whl (5.3 kB)\n",
      "Installing collected packages: zipp, importlib-resources, tqdm\n",
      "Successfully installed importlib-resources-5.4.0 tqdm-4.64.1 zipp-3.6.0\n",
      "Note: you may need to restart the kernel to use updated packages.\n"
     ]
    }
   ],
   "source": [
    "pip install tqdm\n"
   ]
  },
  {
   "cell_type": "code",
   "execution_count": 19,
   "id": "b3998b9c",
   "metadata": {},
   "outputs": [],
   "source": [
    "import torch\n",
    "import torch.nn as nn\n",
    "from torch.autograd import Variable\n",
    "import argparse\n",
    "import os\n",
    "import unidecode\n",
    "import string\n",
    "import random\n",
    "import time\n",
    "import math\n",
    "\n",
    "from tqdm import tqdm"
   ]
  },
  {
   "cell_type": "code",
   "execution_count": 22,
   "id": "1598f292",
   "metadata": {},
   "outputs": [],
   "source": [
    "class Args():\n",
    "    def __init__(self):\n",
    "        self.filename = 'filename'\n",
    "        self.model = \"gru\"\n",
    "        self.n_epochs = 500\n",
    "        self.print_every = 100\n",
    "        self.hidden_size = 100\n",
    "        self.n_layers = 2\n",
    "        self.learning_rate = 0.01\n",
    "        self.chunk_len = 200\n",
    "        self.batch_size = 100\n",
    "        self.shuffle = True\n",
    "        self.cuda = False\n",
    "\n",
    "args = Args()\n",
    "args.filename = 'shakespeare.txt'\n",
    "#An instance of the Args class is created = args. The filename attribute is then modified to 'shakespeare.txt'.\n",
    "\n",
    "if torch.cuda.is_available():\n",
    "    args.cuda = True\n",
    "\n",
    "if args.cuda:\n",
    "    print(\"Using CUDA\")\n",
    "    \n",
    "#If CUDA is enabled (args.cuda == True), the message \"Using CUDA\" is printed.\n",
    "    \n",
    "#The Args class defines a set of default configuration parameters for the model. It initializes several attributes such as filename ...\n"
   ]
  },
  {
   "cell_type": "code",
   "execution_count": 26,
   "id": "6c6ebb14",
   "metadata": {},
   "outputs": [],
   "source": [
    "#MODEL\n",
    "\n",
    "class CharRNN(nn.Module):\n",
    "    def __init__(self, input_size, hidden_size, output_size, model=\"gru\", n_layers=1):\n",
    "        super(CharRNN, self).__init__()\n",
    "        self.model = model.lower()\n",
    "        self.input_size = input_size\n",
    "        self.hidden_size = hidden_size\n",
    "        self.output_size = output_size\n",
    "        self.n_layers = n_layers\n",
    "\n",
    "        self.encoder = nn.Embedding(input_size, hidden_size)\n",
    "        if self.model == \"gru\":\n",
    "            self.rnn = nn.GRU(hidden_size, hidden_size, n_layers)\n",
    "        elif self.model == \"lstm\":\n",
    "            self.rnn = nn.LSTM(hidden_size, hidden_size, n_layers)\n",
    "        self.decoder = nn.Linear(hidden_size, output_size)\n",
    "\n",
    "    def forward(self, input, hidden):\n",
    "        batch_size = input.size(0)\n",
    "        encoded = self.encoder(input)\n",
    "        output, hidden = self.rnn(encoded.view(1, batch_size, -1), hidden)\n",
    "        output = self.decoder(output.view(batch_size, -1))\n",
    "        return output, hidden\n",
    "\n",
    "    def forward2(self, input, hidden):\n",
    "        encoded = self.encoder(input.view(1, -1))\n",
    "        output, hidden = self.rnn(encoded.view(1, 1, -1), hidden)\n",
    "        output = self.decoder(output.view(1, -1))\n",
    "        return output, hidden\n",
    "        \n",
    "    def init_hidden(self, batch_size):\n",
    "        if self.model == \"lstm\":\n",
    "            return (Variable(torch.zeros(self.n_layers, batch_size, self.hidden_size)),\n",
    "                    Variable(torch.zeros(self.n_layers, batch_size, self.hidden_size)))\n",
    "        return Variable(torch.zeros(self.n_layers, batch_size, self.hidden_size))\n",
    "\n",
    "    "
   ]
  },
  {
   "cell_type": "code",
   "execution_count": 32,
   "id": "f3cca62e",
   "metadata": {},
   "outputs": [],
   "source": [
    "import unidecode\n",
    "import string\n",
    "import random\n",
    "import time\n",
    "import math\n",
    "import torch\n",
    "\n",
    "# Reading and un-unicode-encoding data\n",
    "\n",
    "all_characters = string.printable\n",
    "n_characters = len(all_characters)\n",
    "\n",
    "def read_file(filename):\n",
    "    file = unidecode.unidecode(open(filename).read())\n",
    "    return file, len(file)\n",
    "\n",
    "file, file_len = read_file(args.filename)\n",
    "# Turning a string into a tensor where each character in the string is represented as an index into the all_characters string. \n",
    "\n",
    "def char_tensor(string):\n",
    "    tensor = torch.zeros(len(string)).long()\n",
    "    for c in range(len(string)):\n",
    "        try:\n",
    "            tensor[c] = all_characters.index(string[c])\n",
    "        except:\n",
    "            continue\n",
    "    return tensor\n",
    "\n",
    "# Readable time elapsed\n",
    "\n",
    "def time_since(since):\n",
    "    s = time.time() - since\n",
    "    m = math.floor(s / 60)\n",
    "    s -= m * 60\n",
    "    return '%dm %ds' % (m, s)\n"
   ]
  },
  {
   "cell_type": "code",
   "execution_count": 45,
   "id": "51e708f8",
   "metadata": {},
   "outputs": [],
   "source": [
    "def generate(decoder, prime_str='A', predict_len=100, temperature=0.8, cuda=False, tensor_fn=char_tensor, chars=all_characters, word = False):\n",
    "    predicted = prime_str\n",
    "#The temperature parameter controls the randomness of the sampling process.Lower values of temperature result in more predictable output \n",
    "    if word:\n",
    "      prime_str = prime_str.split()\n",
    "      #print(prime_str)\n",
    "\n",
    "    hidden = decoder.init_hidden(1)\n",
    "    prime_input = Variable(tensor_fn(prime_str).unsqueeze(0))\n",
    "\n",
    "    if cuda:\n",
    "        hidden = hidden.cuda()\n",
    "        prime_input = prime_input.cuda()\n",
    "\n",
    "    # Use priming string to \"build up\" hidden state\n",
    "    for p in range(len(prime_str) - 1):\n",
    "        _, hidden = decoder(prime_input[:,p], hidden)\n",
    "        \n",
    "    inp = prime_input[:,-1]\n",
    "    \n",
    "    for p in range(predict_len):\n",
    "        output, hidden = decoder(inp, hidden)\n",
    "        \n",
    "        # Sample from the network as a multinomial distribution\n",
    "        output_dist = output.data.view(-1).div(temperature).exp()\n",
    "        top_i = torch.multinomial(output_dist, 1)[0]\n",
    "\n",
    "        # Add predicted character to string and use as next input\n",
    "        predicted_char = all_characters[top_i]\n",
    "        predicted += predicted_char\n",
    "        inp = Variable(char_tensor(predicted_char).unsqueeze(0))\n",
    "        if cuda:\n",
    "            inp = inp.to(device)\n",
    "\n",
    "    return predicted\n"
   ]
  },
  {
   "cell_type": "code",
   "execution_count": 38,
   "id": "8312a467",
   "metadata": {},
   "outputs": [
    {
     "name": "stdout",
     "output_type": "stream",
     "text": [
      "Training for 500 epochs...\n"
     ]
    },
    {
     "name": "stderr",
     "output_type": "stream",
     "text": [
      " 20%|██        | 100/500 [02:06<08:35,  1.29s/it]"
     ]
    },
    {
     "name": "stdout",
     "output_type": "stream",
     "text": [
      "[2m 6s (100 20%) 1.7867]\n",
      "Where chead for not frown, whilence ferfieR\n",
      "The hast\n",
      "Frither shall word me that be for the manent no p \n",
      "\n"
     ]
    },
    {
     "name": "stderr",
     "output_type": "stream",
     "text": [
      " 40%|████      | 200/500 [04:19<07:11,  1.44s/it]"
     ]
    },
    {
     "name": "stdout",
     "output_type": "stream",
     "text": [
      "[4m 19s (200 40%) 1.5540]\n",
      "Which a fair at thou onon;\n",
      "And what, which he have their father'd\n",
      "What do can dread like of the king m \n",
      "\n"
     ]
    },
    {
     "name": "stderr",
     "output_type": "stream",
     "text": [
      " 60%|██████    | 300/500 [06:34<04:35,  1.38s/it]"
     ]
    },
    {
     "name": "stdout",
     "output_type": "stream",
     "text": [
      "[6m 33s (300 60%) 1.5264]\n",
      "Where is thy lord in thee to with your dull forget\n",
      "Face do thy chast you upon the read\n",
      "you deserved's  \n",
      "\n"
     ]
    },
    {
     "name": "stderr",
     "output_type": "stream",
     "text": [
      " 80%|████████  | 400/500 [08:52<02:17,  1.38s/it]"
     ]
    },
    {
     "name": "stdout",
     "output_type": "stream",
     "text": [
      "[8m 52s (400 80%) 1.4393]\n",
      "Whild the die, sir: but as I though I will her need.\n",
      "\n",
      "LEONTES:\n",
      "Has under be made, kills the king been  \n",
      "\n"
     ]
    },
    {
     "name": "stderr",
     "output_type": "stream",
     "text": [
      "100%|██████████| 500/500 [11:11<00:00,  1.34s/it]"
     ]
    },
    {
     "name": "stdout",
     "output_type": "stream",
     "text": [
      "[11m 11s (500 100%) 1.4331]\n",
      "Whill not; but you will I am the Jurether; but senate\n",
      "Their house and been till 'tis man, I them had n \n",
      "\n",
      "Saving...\n",
      "Saved as shakespeare.pt\n"
     ]
    },
    {
     "name": "stderr",
     "output_type": "stream",
     "text": [
      "\n",
      "C:\\Users\\olfia\\anaconda3\\envs\\env_pytorch\\lib\\site-packages\\torch\\serialization.py:256: UserWarning: Couldn't retrieve source code for container of type CharRNN. It won't be checked for correctness upon loading.\n",
      "  \"type \" + obj.__name__ + \". It won't be checked \"\n"
     ]
    }
   ],
   "source": [
    "#training\n",
    "from ctypes import c_char_p\n",
    "def random_training_set(args, file=file, file_len=file_len, tensor_fn=char_tensor):\n",
    "    inp = torch.LongTensor(args.batch_size, args.chunk_len)\n",
    "    target = torch.LongTensor(args.batch_size, args.chunk_len)\n",
    "    for bi in range(args.batch_size):\n",
    "        start_index = random.randint(0, file_len - args.chunk_len - 1)\n",
    "        end_index = start_index + args.chunk_len + 1\n",
    "        chunk = file[start_index:end_index]\n",
    "        inp[bi] = tensor_fn(chunk[:-1])\n",
    "        target[bi] = tensor_fn(chunk[1:])\n",
    "    inp = Variable(inp)\n",
    "    target = Variable(target)\n",
    "    if args.cuda:\n",
    "        inp = inp.cuda()\n",
    "        target = target.cuda()\n",
    "    return inp, target\n",
    "\n",
    "# training of the model on a single batch of data. \n",
    "#The loss is computed for each character and the gradients are backpropagated through time.\n",
    "\n",
    "def train(args, inp, target, decoder, criterion, decoder_optimizer):\n",
    "    hidden = decoder.init_hidden(args.batch_size)\n",
    "    if args.cuda:\n",
    "        hidden = hidden.cuda()\n",
    "    decoder.zero_grad()\n",
    "    loss = 0\n",
    "\n",
    "    for c in range(args.chunk_len):\n",
    "        output, hidden = decoder(inp[:,c], hidden)\n",
    "        loss += criterion(output.view(args.batch_size, -1), target[:,c])\n",
    "\n",
    "    loss.backward()\n",
    "    decoder_optimizer.step()\n",
    "\n",
    "    return loss.item() / args.chunk_len\n",
    "\n",
    "def save(args, decoder, save_filename):\n",
    "    save_filename = save_filename + '.pt'\n",
    "    torch.save(decoder, save_filename)\n",
    "    print('Saved as %s' % save_filename)\n",
    "    \n",
    "\n",
    "# Initialize models and start training\n",
    "\n",
    "decoder = CharRNN(\n",
    "    n_characters,\n",
    "    args.hidden_size,\n",
    "    n_characters,\n",
    "    model=args.model,\n",
    "    n_layers=args.n_layers,\n",
    ")\n",
    "decoder_optimizer = torch.optim.Adam(decoder.parameters(), lr=args.learning_rate)\n",
    "criterion = nn.CrossEntropyLoss()\n",
    "\n",
    "if args.cuda:\n",
    "    decoder.cuda()\n",
    "\n",
    "start = time.time()\n",
    "all_losses = []\n",
    "loss_avg = 0\n",
    "\n",
    "args.chunk_len = 200\n",
    "\n",
    "try:\n",
    "    print(\"Training for %d epochs...\" % args.n_epochs)\n",
    "    for epoch in tqdm(range(1, args.n_epochs + 1)):\n",
    "    #for epoch in tqdm(range(1, 2)):\n",
    "        loss = train(args, *random_training_set(args, file, file_len, tensor_fn=char_tensor), decoder, criterion, decoder_optimizer)\n",
    "        loss_avg += loss\n",
    "        all_losses.append(math.exp(loss))\n",
    "\n",
    "        if epoch % args.print_every == 0:\n",
    "            print('[%s (%d %d%%) %.4f]' % (time_since(start), epoch, epoch / args.n_epochs * 100, loss))\n",
    "            print(generate(decoder, 'Wh', 100, cuda=args.cuda), '\\n')\n",
    "\n",
    "    print(\"Saving...\")\n",
    "    save(args, decoder, \"shakespeare\")\n",
    "\n",
    "except KeyboardInterrupt:\n",
    "    print(\"Saving before quit...\")\n",
    "    save(args, decoder, \"shakespeare\")"
   ]
  },
  {
   "cell_type": "code",
   "execution_count": 40,
   "id": "8c71d1f7",
   "metadata": {},
   "outputs": [
    {
     "data": {
      "image/png": "[encoded data removed]",
      "text/plain": [
       "<Figure size 432x288 with 1 Axes>"
      ]
     },
     "metadata": {
      "needs_background": "light"
     },
     "output_type": "display_data"
    }
   ],
   "source": [
    "import matplotlib.pyplot as plt\n",
    "\n",
    "epochs = len(all_losses)\n",
    "plt.plot(range(epochs), all_losses, label='Training Perplexity')\n",
    "plt.title('Training Perplexity Curve')\n",
    "plt.xlabel('Epochs')\n",
    "plt.ylabel('Perplexity')\n",
    "plt.ylim(0, 10)\n",
    "\n",
    "# set the legend and display the plot\n",
    "plt.legend()\n",
    "plt.show()"
   ]
  },
  {
   "cell_type": "markdown",
   "id": "79c0ae96",
   "metadata": {},
   "source": [
    "Task 2 \n",
    "\n"
   ]
  },
  {
   "cell_type": "markdown",
   "id": "2ef648d3",
   "metadata": {},
   "source": [
    "Use the trained Char-Rnn model from Task 1 and report 3 generated sequences of length 100 by\n",
    "priming the model with random character sequences of length 5. E.g., \"2 b3n\", \"bg09Z\", etc.\n",
    "While reporting the generated sequences, also report their corresponding priming sequences."
   ]
  },
  {
   "cell_type": "code",
   "execution_count": 46,
   "id": "2add1927",
   "metadata": {},
   "outputs": [
    {
     "name": "stdout",
     "output_type": "stream",
     "text": [
      "hj34s like betterfeit you,\n",
      "And then the sead to past hate me other in me?\n",
      "\n",
      "WARWICK:\n",
      "Why close you, sir, I\n"
     ]
    }
   ],
   "source": [
    "\n",
    "decoder = torch.load('shakespeare.pt')\n",
    "print(generate(decoder, prime_str='hj34s', cuda=args.cuda, tensor_fn=char_tensor, chars=all_characters))"
   ]
  },
  {
   "cell_type": "code",
   "execution_count": 47,
   "id": "0da9c0c5",
   "metadata": {},
   "outputs": [
    {
     "name": "stdout",
     "output_type": "stream",
     "text": [
      "2sf 4range to crusis.\n",
      "\n",
      "First Master:\n",
      "Alate one srather, 'tis twenty lord.\n",
      "\n",
      "ANTONIO:\n",
      "Where is yet you.\n",
      "\n",
      "CA\n"
     ]
    }
   ],
   "source": [
    "print(generate(decoder, prime_str='2sf 4', cuda=args.cuda, tensor_fn=char_tensor, chars=all_characters))"
   ]
  },
  {
   "cell_type": "code",
   "execution_count": 48,
   "id": "ae1a70a4",
   "metadata": {},
   "outputs": [
    {
     "name": "stdout",
     "output_type": "stream",
     "text": [
      "  3  LENTIO:\n",
      "Let the revieck'd; and thus last his clows. Where,\n",
      "Their bring it on all make me go talk\n",
      "The\n"
     ]
    }
   ],
   "source": [
    "print(generate(decoder, prime_str='  3  ', cuda=args.cuda, tensor_fn=char_tensor, chars=all_characters))"
   ]
  },
  {
   "cell_type": "markdown",
   "id": "c72624c7",
   "metadata": {},
   "source": [
    "Task 3 \n",
    "\n",
    "\n",
    "Like in the previous task, generate character sequences of length 100 for the following priming\n",
    "sequences:\n",
    "• The\n",
    "• What is\n",
    "• Shall I give\n",
    "• X087hNYB BHN BYFVuhsdbs"
   ]
  },
  {
   "cell_type": "code",
   "execution_count": 49,
   "id": "9ff08ebd",
   "metadata": {},
   "outputs": [
    {
     "name": "stdout",
     "output_type": "stream",
     "text": [
      "Ther and couns any sulipition.\n",
      "\n",
      "LEONTES:\n",
      "Benes,\n",
      "Wither's sentleman's discourph not affecting; to the ey\n"
     ]
    }
   ],
   "source": [
    "print(generate(decoder, prime_str='The', cuda=args.cuda, tensor_fn=char_tensor, chars=all_characters))"
   ]
  },
  {
   "cell_type": "code",
   "execution_count": 50,
   "id": "1cc193eb",
   "metadata": {},
   "outputs": [
    {
     "name": "stdout",
     "output_type": "stream",
     "text": [
      "What is my care of York of the Frand:\n",
      "The Prove a sweet seen hard of reseetish'd the mifstors\n",
      "And she in th\n"
     ]
    }
   ],
   "source": [
    "print(generate(decoder, prime_str='What is', cuda=args.cuda, tensor_fn=char_tensor, chars=all_characters))"
   ]
  },
  {
   "cell_type": "code",
   "execution_count": 51,
   "id": "55c17231",
   "metadata": {},
   "outputs": [
    {
     "name": "stdout",
     "output_type": "stream",
     "text": [
      "Shall I give must once? is my lord:\n",
      "I have done the morning them.\n",
      "\n",
      "ANGELO:\n",
      "Is not soul ship to me should king?\n",
      "\n",
      "\n"
     ]
    }
   ],
   "source": [
    "print(generate(decoder, prime_str='Shall I give', cuda=args.cuda, tensor_fn=char_tensor, chars=all_characters))"
   ]
  },
  {
   "cell_type": "code",
   "execution_count": 52,
   "id": "d4513b5d",
   "metadata": {},
   "outputs": [
    {
     "name": "stdout",
     "output_type": "stream",
     "text": [
      "X087hNYB BHN BYFVuhsdbs cheeks often great further.\n",
      "\n",
      "GLOUCESTER:\n",
      "But you have you will be with you, sease:\n",
      "Let me them betw\n"
     ]
    }
   ],
   "source": [
    "print(generate(decoder, prime_str='X087hNYB BHN BYFVuhsdbs', cuda=args.cuda, tensor_fn=char_tensor, chars=all_characters))"
   ]
  },
  {
   "cell_type": "markdown",
   "id": "9aecca71",
   "metadata": {},
   "source": [
    "Neural Language Models (OPTIONAL)\n",
    "\n",
    "1) What are Language Models? Where and how are Language Models used?\n",
    "\n",
    "Language Models (LMs) are computational models that are used to predict the probability of occurrence of a given sequence of words in a language. These models are trained on large datasets of text and are capable of predicting the likelihood of the next word in a sequence given the previous words.\n",
    "\n",
    "Language Models are used in various applications such as speech recognition, machine translation, text-to-speech synthesis, and automatic summarization.\n",
    "\n",
    "For example, language models are used in chatbots to generate responses to user queries. + in search engines to accurately predict the user’s next search query based on their previous searches.\n",
    "\n",
    "2) How can you use a trained Char-RNN model as a Character Level Language Model? \n",
    "A trained Char-RNN model can be used as a Character Level Language Model by inputting a sequence of characters and using the model to generate the probability distribution of the next character in the sequence. This can be achieved by passing the current sequence of characters through the model and using the output of the last layer to predict the probability distribution of the next character.\n",
    "\n",
    "Once the probability distribution is generated, the next character can be sampled from the distribution either deterministically by selecting the character with the highest probability or stochastically by sampling from the distribution according to the corresponding probabilities. By repeating this process, a new sequence of characters can be generated.\n",
    "\n",
    "-> a powerful tool for generating new sequences of characters that can be used in various applications, such as text generation, language translation, and speech recognition.\n",
    "\n",
    "3) How can you train a Word Level Language Model? \n",
    "- Collect a large corpus of text data and preprocess it to remove unwanted characters, numbers, and punctuation.\n",
    "\n",
    "- Tokenize the text into words and create a vocabulary of all unique words present in the corpus.\n",
    "\n",
    "- Split the corpus into training and validation sets.\n",
    "\n",
    "- Convert the words into numerical representations using one-hot encoding or word embeddings.\n",
    "\n",
    "- Design and build a neural network architecture for the language model, which can take in a sequence of word embeddings and predict the next word in the sequence.\n",
    "\n",
    "- Train the language model on the training data, minimizing the loss function, and validate the model on the validation set.\n",
    "\n",
    "- Tune the hyperparameters of the model\n",
    "\n",
    "Once the model is trained, it can be used to generate new text by sampling from the output probabilities of the last layer of the model.\n",
    "\n",
    "4) Formally describe the inference model that an RNN trained to predict the next word represents?\n",
    "\n",
    "The language model takes in a sequence of words (w_1, w_2, ..., w_t), and its goal is to predict the probability distribution of the next word w_t+1.\n",
    "\n",
    "The RNN-based language model uses the hidden state h_t as a summary of the sequence up to time step t, and this is updated after each new input. The hidden state at time t is a function of the current input word w_t, the previous hidden state h_t-1, and the network parameters, such as the weights and biases.\n",
    "\n",
    "The conditional probability distribution of the next word w_t+1 given the previous words up to time step t, p(w_t+1|w_1, w_2, ..., w_t), can be estimated using the current hidden state h_t and the network parameters.\n",
    "\n",
    "During inference, the RNN generates a sequence of words by iteratively predicting the probabilities of the next word and sampling from the distribution. This process continues until a predetermined stopping criteria is met, such as a predefined maximum sequence length, or a specific end-of-sequence token is generated.\n",
    "\n",
    "Overall, an RNN trained to predict the next word represents a language model that estimates the probability distribution of the next word given the previous words, using a sequence summary of the inputs up to the current time step. \n",
    "\n",
    "5) How will you generate the \"probability of existence\" of an input sequence of words, given a trained RNN Language Model? \n",
    "\n",
    "We can use the trained RNN to generate the sequence of hidden states corresponding to each word in the input sequence. Then, for each time step, the output of the RNN can be passed through a softmax function to obtain the probability distribution over the vocabulary of possible next words.\n",
    "\n",
    "For example, if we have an input sequence of words \"The cat sat on the\", we could pass the sequence through the trained RNN and compute the probability of each possible next word (e.g. \"mat,\" \"chair,\" \"car\"). We could then multiply these probabilities together to get the overall probability of the input sequence.\n",
    "\n"
   ]
  },
  {
   "cell_type": "code",
   "execution_count": null,
   "id": "2e57d84c",
   "metadata": {},
   "outputs": [],
   "source": []
  }
 ],
 "metadata": {
  "kernelspec": {
   "display_name": "Python 3",
   "language": "python",
   "name": "python3"
  },
  "language_info": {
   "codemirror_mode": {
    "name": "ipython",
    "version": 3
   },
   "file_extension": ".py",
   "mimetype": "text/x-python",
   "name": "python",
   "nbconvert_exporter": "python",
   "pygments_lexer": "ipython3",
   "version": "3.6.13"
  }
 },
 "nbformat": 4,
 "nbformat_minor": 5
}
